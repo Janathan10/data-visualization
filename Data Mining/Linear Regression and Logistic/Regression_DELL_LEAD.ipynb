{
 "cells": [
  {
   "cell_type": "markdown",
   "metadata": {},
   "source": [
    "### Regressão Linear Múltipla"
   ]
  },
  {
   "cell_type": "markdown",
   "metadata": {},
   "source": [
    "Neste notebook aprenderemos como utilizar a biblioteca scikit-learn para construirmos um modelo de previsão de preço, usando regressão linear múltipla. Para isso utilizaremos um conjunto de dados de carros usados listados pelo site www.cardekho.com e disponível em: https://www.kaggle.com/nehalbirla/vehicle-dataset-from-cardekho e adaptado neste notebook."
   ]
  },
  {
   "cell_type": "markdown",
   "metadata": {},
   "source": [
    "As informações contidas no dataset são:\n",
    "\n",
    "**nome_carro:**        nome do carro\n",
    "\n",
    "**ano:**               ano de fabricação\n",
    "\n",
    "**preco_venda:**       preço que o dono quer vender\n",
    "\n",
    "**preco_atual:**       preço da concessionária\n",
    "\n",
    "**kms_rodados:**       kilometragem do carro \n",
    "\n",
    "**tipo_combustivel:**  tipo de combustível do carro (Diesel, Gasolina, GasNatural)\n",
    "\n",
    "**tipo_vendedor:**     se o vendedor é um revendedor ou é a própria pessoa\n",
    "\n",
    "**tipo_transmissao:**  tipo de câmbio do carro\n",
    "\n",
    "**n_donos:**           número de donos que o carro já teve"
   ]
  },
  {
   "cell_type": "markdown",
   "metadata": {},
   "source": [
    "### Importando bibliotecas necessárias"
   ]
  },
  {
   "cell_type": "code",
   "execution_count": 1,
   "metadata": {},
   "outputs": [],
   "source": [
    "import pandas as pd\n",
    "import numpy as np\n",
    "import matplotlib.pyplot as plt\n",
    "%matplotlib inline"
   ]
  },
  {
   "cell_type": "markdown",
   "metadata": {},
   "source": [
    "### Carregando os dados"
   ]
  },
  {
   "cell_type": "code",
   "execution_count": 2,
   "metadata": {
    "scrolled": true
   },
   "outputs": [
    {
     "data": {
      "text/html": [
       "<div>\n",
       "<style scoped>\n",
       "    .dataframe tbody tr th:only-of-type {\n",
       "        vertical-align: middle;\n",
       "    }\n",
       "\n",
       "    .dataframe tbody tr th {\n",
       "        vertical-align: top;\n",
       "    }\n",
       "\n",
       "    .dataframe thead th {\n",
       "        text-align: right;\n",
       "    }\n",
       "</style>\n",
       "<table border=\"1\" class=\"dataframe\">\n",
       "  <thead>\n",
       "    <tr style=\"text-align: right;\">\n",
       "      <th></th>\n",
       "      <th>nome_carro</th>\n",
       "      <th>ano</th>\n",
       "      <th>preco_venda</th>\n",
       "      <th>preco_atual</th>\n",
       "      <th>kms_rodados</th>\n",
       "      <th>tipo_combustivel</th>\n",
       "      <th>tipo_vendedor</th>\n",
       "      <th>tipo_transmissao</th>\n",
       "      <th>n_donos</th>\n",
       "    </tr>\n",
       "  </thead>\n",
       "  <tbody>\n",
       "    <tr>\n",
       "      <th>0</th>\n",
       "      <td>ritz</td>\n",
       "      <td>2014</td>\n",
       "      <td>3.35</td>\n",
       "      <td>5.59</td>\n",
       "      <td>27000</td>\n",
       "      <td>Gasolina</td>\n",
       "      <td>Revendedor</td>\n",
       "      <td>Manual</td>\n",
       "      <td>0</td>\n",
       "    </tr>\n",
       "    <tr>\n",
       "      <th>1</th>\n",
       "      <td>sx4</td>\n",
       "      <td>2013</td>\n",
       "      <td>4.75</td>\n",
       "      <td>9.54</td>\n",
       "      <td>43000</td>\n",
       "      <td>Diesel</td>\n",
       "      <td>Revendedor</td>\n",
       "      <td>Manual</td>\n",
       "      <td>0</td>\n",
       "    </tr>\n",
       "    <tr>\n",
       "      <th>2</th>\n",
       "      <td>ciaz</td>\n",
       "      <td>2017</td>\n",
       "      <td>7.25</td>\n",
       "      <td>9.85</td>\n",
       "      <td>6900</td>\n",
       "      <td>Gasolina</td>\n",
       "      <td>Revendedor</td>\n",
       "      <td>Manual</td>\n",
       "      <td>0</td>\n",
       "    </tr>\n",
       "    <tr>\n",
       "      <th>3</th>\n",
       "      <td>wagon r</td>\n",
       "      <td>2011</td>\n",
       "      <td>2.85</td>\n",
       "      <td>4.15</td>\n",
       "      <td>5200</td>\n",
       "      <td>Gasolina</td>\n",
       "      <td>Revendedor</td>\n",
       "      <td>Manual</td>\n",
       "      <td>0</td>\n",
       "    </tr>\n",
       "    <tr>\n",
       "      <th>4</th>\n",
       "      <td>swift</td>\n",
       "      <td>2014</td>\n",
       "      <td>4.60</td>\n",
       "      <td>6.87</td>\n",
       "      <td>42450</td>\n",
       "      <td>Diesel</td>\n",
       "      <td>Revendedor</td>\n",
       "      <td>Manual</td>\n",
       "      <td>0</td>\n",
       "    </tr>\n",
       "  </tbody>\n",
       "</table>\n",
       "</div>"
      ],
      "text/plain": [
       "  nome_carro   ano  preco_venda  preco_atual  kms_rodados tipo_combustivel  \\\n",
       "0       ritz  2014         3.35         5.59        27000         Gasolina   \n",
       "1        sx4  2013         4.75         9.54        43000           Diesel   \n",
       "2       ciaz  2017         7.25         9.85         6900         Gasolina   \n",
       "3    wagon r  2011         2.85         4.15         5200         Gasolina   \n",
       "4      swift  2014         4.60         6.87        42450           Diesel   \n",
       "\n",
       "  tipo_vendedor tipo_transmissao  n_donos  \n",
       "0    Revendedor           Manual        0  \n",
       "1    Revendedor           Manual        0  \n",
       "2    Revendedor           Manual        0  \n",
       "3    Revendedor           Manual        0  \n",
       "4    Revendedor           Manual        0  "
      ]
     },
     "execution_count": 2,
     "metadata": {},
     "output_type": "execute_result"
    }
   ],
   "source": [
    "df = pd.read_csv(\"car_data.csv\")\n",
    "\n",
    "# mostrando as primeiras linhas do arquivo.\n",
    "df.head()"
   ]
  },
  {
   "cell_type": "markdown",
   "metadata": {},
   "source": [
    "Tamanho dos nossos registros"
   ]
  },
  {
   "cell_type": "code",
   "execution_count": 21,
   "metadata": {},
   "outputs": [
    {
     "name": "stdout",
     "output_type": "stream",
     "text": [
      "(301, 9)\n"
     ]
    }
   ],
   "source": [
    "# o nosso dataset possui 301 registros de carros usados\n",
    "print(df.shape)"
   ]
  },
  {
   "cell_type": "markdown",
   "metadata": {},
   "source": [
    "Para o algoritmo de regressão, vamos substituir os dados que possuem textos por números. "
   ]
  },
  {
   "cell_type": "code",
   "execution_count": 15,
   "metadata": {
    "scrolled": true
   },
   "outputs": [
    {
     "data": {
      "text/html": [
       "<div>\n",
       "<style scoped>\n",
       "    .dataframe tbody tr th:only-of-type {\n",
       "        vertical-align: middle;\n",
       "    }\n",
       "\n",
       "    .dataframe tbody tr th {\n",
       "        vertical-align: top;\n",
       "    }\n",
       "\n",
       "    .dataframe thead th {\n",
       "        text-align: right;\n",
       "    }\n",
       "</style>\n",
       "<table border=\"1\" class=\"dataframe\">\n",
       "  <thead>\n",
       "    <tr style=\"text-align: right;\">\n",
       "      <th></th>\n",
       "      <th>nome_carro</th>\n",
       "      <th>ano</th>\n",
       "      <th>preco_venda</th>\n",
       "      <th>preco_atual</th>\n",
       "      <th>kms_rodados</th>\n",
       "      <th>tipo_combustivel</th>\n",
       "      <th>tipo_vendedor</th>\n",
       "      <th>tipo_transmissao</th>\n",
       "      <th>n_donos</th>\n",
       "    </tr>\n",
       "  </thead>\n",
       "  <tbody>\n",
       "    <tr>\n",
       "      <th>0</th>\n",
       "      <td>ritz</td>\n",
       "      <td>2014</td>\n",
       "      <td>3.35</td>\n",
       "      <td>5.59</td>\n",
       "      <td>27000</td>\n",
       "      <td>0</td>\n",
       "      <td>0</td>\n",
       "      <td>0</td>\n",
       "      <td>0</td>\n",
       "    </tr>\n",
       "    <tr>\n",
       "      <th>1</th>\n",
       "      <td>sx4</td>\n",
       "      <td>2013</td>\n",
       "      <td>4.75</td>\n",
       "      <td>9.54</td>\n",
       "      <td>43000</td>\n",
       "      <td>1</td>\n",
       "      <td>0</td>\n",
       "      <td>0</td>\n",
       "      <td>0</td>\n",
       "    </tr>\n",
       "    <tr>\n",
       "      <th>2</th>\n",
       "      <td>ciaz</td>\n",
       "      <td>2017</td>\n",
       "      <td>7.25</td>\n",
       "      <td>9.85</td>\n",
       "      <td>6900</td>\n",
       "      <td>0</td>\n",
       "      <td>0</td>\n",
       "      <td>0</td>\n",
       "      <td>0</td>\n",
       "    </tr>\n",
       "    <tr>\n",
       "      <th>3</th>\n",
       "      <td>wagon r</td>\n",
       "      <td>2011</td>\n",
       "      <td>2.85</td>\n",
       "      <td>4.15</td>\n",
       "      <td>5200</td>\n",
       "      <td>0</td>\n",
       "      <td>0</td>\n",
       "      <td>0</td>\n",
       "      <td>0</td>\n",
       "    </tr>\n",
       "    <tr>\n",
       "      <th>4</th>\n",
       "      <td>swift</td>\n",
       "      <td>2014</td>\n",
       "      <td>4.60</td>\n",
       "      <td>6.87</td>\n",
       "      <td>42450</td>\n",
       "      <td>1</td>\n",
       "      <td>0</td>\n",
       "      <td>0</td>\n",
       "      <td>0</td>\n",
       "    </tr>\n",
       "  </tbody>\n",
       "</table>\n",
       "</div>"
      ],
      "text/plain": [
       "  nome_carro   ano  preco_venda  preco_atual  kms_rodados  tipo_combustivel  \\\n",
       "0       ritz  2014         3.35         5.59        27000                 0   \n",
       "1        sx4  2013         4.75         9.54        43000                 1   \n",
       "2       ciaz  2017         7.25         9.85         6900                 0   \n",
       "3    wagon r  2011         2.85         4.15         5200                 0   \n",
       "4      swift  2014         4.60         6.87        42450                 1   \n",
       "\n",
       "   tipo_vendedor  tipo_transmissao  n_donos  \n",
       "0              0                 0        0  \n",
       "1              0                 0        0  \n",
       "2              0                 0        0  \n",
       "3              0                 0        0  \n",
       "4              0                 0        0  "
      ]
     },
     "execution_count": 15,
     "metadata": {},
     "output_type": "execute_result"
    }
   ],
   "source": [
    "df['tipo_transmissao'].replace({'Manual': 0, 'Automatico': 1}, inplace=True)\n",
    "df['tipo_vendedor'].replace({'Revendedor': 0, 'Individual': 1}, inplace=True)\n",
    "df['tipo_combustivel'].replace({'Gasolina': 0, 'Diesel': 1, 'GasNatural': 2}, inplace=True)\n",
    "df.head()"
   ]
  },
  {
   "cell_type": "markdown",
   "metadata": {},
   "source": [
    "Vamos plotar em um gráfico os anos do carros versus o preço de venda"
   ]
  },
  {
   "cell_type": "code",
   "execution_count": 16,
   "metadata": {},
   "outputs": [
    {
     "data": {
      "image/png": "[encoded data removed]",
      "text/plain": [
       "<Figure size 432x288 with 1 Axes>"
      ]
     },
     "metadata": {
      "needs_background": "light"
     },
     "output_type": "display_data"
    }
   ],
   "source": [
    "plt.scatter(df['ano'], df['preco_venda'],  color='blue')\n",
    "plt.xlabel(\"Ano do Carro\")\n",
    "plt.ylabel(\"Preço de venda\")\n",
    "plt.show()"
   ]
  },
  {
   "cell_type": "markdown",
   "metadata": {},
   "source": [
    "Agora vamos ver qual os anos dos carros que mais rodaram"
   ]
  },
  {
   "cell_type": "code",
   "execution_count": 17,
   "metadata": {
    "scrolled": true
   },
   "outputs": [
    {
     "data": {
      "image/png": "[encoded data removed]",
      "text/plain": [
       "<Figure size 432x288 with 1 Axes>"
      ]
     },
     "metadata": {
      "needs_background": "light"
     },
     "output_type": "display_data"
    }
   ],
   "source": [
    "plt.scatter(df['ano'], df['kms_rodados'],  color='red')\n",
    "plt.xlabel(\"Ano do Carro\")\n",
    "plt.ylabel(\"Kms Rodados\")\n",
    "plt.show()"
   ]
  },
  {
   "cell_type": "markdown",
   "metadata": {},
   "source": [
    "Separando a variável dependente e as variáveis independentes"
   ]
  },
  {
   "cell_type": "code",
   "execution_count": 18,
   "metadata": {},
   "outputs": [],
   "source": [
    "# escolhendo as variáveis independentes\n",
    "x = df[['ano', 'preco_atual', 'kms_rodados', 'tipo_combustivel', 'tipo_vendedor', 'tipo_transmissao', 'n_donos']]"
   ]
  },
  {
   "cell_type": "code",
   "execution_count": 19,
   "metadata": {},
   "outputs": [],
   "source": [
    "# variável dependente\n",
    "y = df[['preco_venda']]"
   ]
  },
  {
   "cell_type": "markdown",
   "metadata": {},
   "source": [
    "### Separar dados em treino e teste"
   ]
  },
  {
   "cell_type": "markdown",
   "metadata": {},
   "source": [
    "Para construir nosso modelo de Machine Learning precisamos dividir os dados em duas partes. Uma para treinar o modelo\n",
    "e outra para testar o modelo com dados que ele não conhece. Para isso iremos separar 80% dos dados para treino e 20%\n",
    "dos dados para teste. Para isso usaremos a biblioteca train_test_split que faz essa separação automaticamente."
   ]
  },
  {
   "cell_type": "code",
   "execution_count": 20,
   "metadata": {},
   "outputs": [],
   "source": [
    "from sklearn.model_selection import train_test_split\n",
    "\n",
    "x_train, x_test, y_train, y_test = train_test_split(x, y, test_size=0.2)\n"
   ]
  },
  {
   "cell_type": "markdown",
   "metadata": {},
   "source": [
    "**x_train** é a parte usada para treinar o algoritmo\n",
    "\n",
    "**x_test** é a parte usada para testar o algoritmo depois de treinado\n",
    "\n",
    "**y_train** é a parte das respostas usadas no treino\n",
    "\n",
    "**y_test** é a parte das respostas usadas para testar o algoritmo"
   ]
  },
  {
   "cell_type": "code",
   "execution_count": 21,
   "metadata": {},
   "outputs": [
    {
     "name": "stdout",
     "output_type": "stream",
     "text": [
      "Treino\n",
      "x_train:  (240, 7)\n",
      "y_train:  (240, 1)\n",
      "\n",
      "Teste\n",
      "x_test:  (61, 7)\n",
      "y_test:  (61, 1)\n"
     ]
    }
   ],
   "source": [
    "# Vendo o número de registros que serão usados para o treino e teste\n",
    "print('Treino')\n",
    "print(\"x_train: \",x_train.shape)\n",
    "print(\"y_train: \",y_train.shape)\n",
    "\n",
    "print('\\nTeste')\n",
    "print(\"x_test: \",x_test.shape)\n",
    "print(\"y_test: \",y_test.shape)"
   ]
  },
  {
   "cell_type": "markdown",
   "metadata": {},
   "source": [
    "### Treinando o Modelo"
   ]
  },
  {
   "cell_type": "code",
   "execution_count": 22,
   "metadata": {},
   "outputs": [
    {
     "data": {
      "text/plain": [
       "LinearRegression()"
      ]
     },
     "execution_count": 22,
     "metadata": {},
     "output_type": "execute_result"
    }
   ],
   "source": [
    "from sklearn.linear_model import LinearRegression\n",
    "\n",
    "# define um modelo de regressão\n",
    "model = LinearRegression()\n",
    "\n",
    "# treina o modelo com os dados de treino\n",
    "model.fit(x_train, y_train)"
   ]
  },
  {
   "cell_type": "markdown",
   "metadata": {},
   "source": [
    "### Realiza a previsão dos preços"
   ]
  },
  {
   "cell_type": "code",
   "execution_count": 24,
   "metadata": {},
   "outputs": [],
   "source": [
    "# y_pred contém a previsão dos preços do nosso modelo\n",
    "y_pred = model.predict(x_test)"
   ]
  },
  {
   "cell_type": "code",
   "execution_count": 26,
   "metadata": {},
   "outputs": [
    {
     "name": "stdout",
     "output_type": "stream",
     "text": [
      "(61, 1)\n",
      "(61, 1)\n"
     ]
    }
   ],
   "source": [
    "print(y_pred.shape)\n",
    "print(y_test.shape)"
   ]
  },
  {
   "cell_type": "markdown",
   "metadata": {},
   "source": [
    "Agora vamos plotar o preço dos carros, previsto pelo modelo versus os dados de teste"
   ]
  },
  {
   "cell_type": "code",
   "execution_count": 27,
   "metadata": {},
   "outputs": [
    {
     "data": {
      "image/png": "[encoded data removed]",
      "text/plain": [
       "<Figure size 432x288 with 1 Axes>"
      ]
     },
     "metadata": {
      "needs_background": "light"
     },
     "output_type": "display_data"
    }
   ],
   "source": [
    "plt.plot(range(y_pred.shape[0]), y_pred,'r--')\n",
    "plt.plot(range(y_test.shape[0]), y_test,'g--')\n",
    "plt.legend(['preço previsto', 'preço real'])\n",
    "plt.ylabel('Preço')\n",
    "plt.xlabel('Índice')\n",
    "\n",
    "plt.show()"
   ]
  },
  {
   "cell_type": "markdown",
   "metadata": {},
   "source": [
    "É possível observar no gráfico que o modelo, em alguns casos tende a prever preços mais baixos do que o preço real de venda."
   ]
  },
  {
   "cell_type": "markdown",
   "metadata": {},
   "source": [
    "Para saber o quanto o nosso modelo está explicando os dados, ou o quanto o modelo pode prever corretamente,\n",
    "iremos utilizar a medida r2, que é o coeficiente de determinação. Para isso iremos utilizar os dados da resposta\n",
    "na etapa de teste e os dados de resposta previstos."
   ]
  },
  {
   "cell_type": "code",
   "execution_count": 28,
   "metadata": {},
   "outputs": [
    {
     "name": "stdout",
     "output_type": "stream",
     "text": [
      "R2-score:  0.8799735313355954\n"
     ]
    }
   ],
   "source": [
    "from sklearn.metrics import r2_score\n",
    "\n",
    "print('R2-score: ', r2_score(y_test, y_pred))"
   ]
  },
  {
   "cell_type": "markdown",
   "metadata": {},
   "source": [
    "Quanto mais próximo de 1, mais o modelo é capaz de prever corretamente.\n",
    "Então do resultado acima, colocando em porcentagem podemos dizer que o nosso modelo\n",
    "prevê corretamente 87% dos preços."
   ]
  },
  {
   "cell_type": "markdown",
   "metadata": {},
   "source": [
    "### Agora é sua vez de Praticar"
   ]
  },
  {
   "cell_type": "markdown",
   "metadata": {},
   "source": [
    "Use as variáveis a seguir para fazer as previsões com base no que já foi visto"
   ]
  },
  {
   "cell_type": "code",
   "execution_count": 29,
   "metadata": {},
   "outputs": [],
   "source": [
    "new_x = df[['ano', 'preco_atual', 'kms_rodados', 'tipo_combustivel']]\n",
    "new_y = df[['preco_venda']]"
   ]
  },
  {
   "cell_type": "markdown",
   "metadata": {},
   "source": [
    "Separe os dados em dados de treino e teste, e então defina um modelo de regressão e realize as previsões.\n",
    "depois use o r2_score para saber a nova porcentagem desse modelo. Oresultado é melhor ou pior?"
   ]
  },
  {
   "cell_type": "code",
   "execution_count": 30,
   "metadata": {},
   "outputs": [
    {
     "name": "stderr",
     "output_type": "stream",
     "text": [
      "C:\\Users\\janat\\anaconda\\lib\\site-packages\\pandas\\core\\generic.py:6619: SettingWithCopyWarning: \n",
      "A value is trying to be set on a copy of a slice from a DataFrame\n",
      "\n",
      "See the caveats in the documentation: https://pandas.pydata.org/pandas-docs/stable/user_guide/indexing.html#returning-a-view-versus-a-copy\n",
      "  return self._update_inplace(result)\n"
     ]
    }
   ],
   "source": [
    "# escreva seu código aqui\n",
    "new_x.head(20)\n",
    "new_x[\"tipo_combustivel\"].replace({\"Gasolina\":0,\"Diesel\":1}, inplace=True)"
   ]
  },
  {
   "cell_type": "code",
   "execution_count": 31,
   "metadata": {},
   "outputs": [
    {
     "data": {
      "text/html": [
       "<div>\n",
       "<style scoped>\n",
       "    .dataframe tbody tr th:only-of-type {\n",
       "        vertical-align: middle;\n",
       "    }\n",
       "\n",
       "    .dataframe tbody tr th {\n",
       "        vertical-align: top;\n",
       "    }\n",
       "\n",
       "    .dataframe thead th {\n",
       "        text-align: right;\n",
       "    }\n",
       "</style>\n",
       "<table border=\"1\" class=\"dataframe\">\n",
       "  <thead>\n",
       "    <tr style=\"text-align: right;\">\n",
       "      <th></th>\n",
       "      <th>ano</th>\n",
       "      <th>preco_atual</th>\n",
       "      <th>kms_rodados</th>\n",
       "      <th>tipo_combustivel</th>\n",
       "    </tr>\n",
       "  </thead>\n",
       "  <tbody>\n",
       "    <tr>\n",
       "      <th>0</th>\n",
       "      <td>2014</td>\n",
       "      <td>5.59</td>\n",
       "      <td>27000</td>\n",
       "      <td>0</td>\n",
       "    </tr>\n",
       "    <tr>\n",
       "      <th>1</th>\n",
       "      <td>2013</td>\n",
       "      <td>9.54</td>\n",
       "      <td>43000</td>\n",
       "      <td>1</td>\n",
       "    </tr>\n",
       "    <tr>\n",
       "      <th>2</th>\n",
       "      <td>2017</td>\n",
       "      <td>9.85</td>\n",
       "      <td>6900</td>\n",
       "      <td>0</td>\n",
       "    </tr>\n",
       "    <tr>\n",
       "      <th>3</th>\n",
       "      <td>2011</td>\n",
       "      <td>4.15</td>\n",
       "      <td>5200</td>\n",
       "      <td>0</td>\n",
       "    </tr>\n",
       "    <tr>\n",
       "      <th>4</th>\n",
       "      <td>2014</td>\n",
       "      <td>6.87</td>\n",
       "      <td>42450</td>\n",
       "      <td>1</td>\n",
       "    </tr>\n",
       "  </tbody>\n",
       "</table>\n",
       "</div>"
      ],
      "text/plain": [
       "    ano  preco_atual  kms_rodados  tipo_combustivel\n",
       "0  2014         5.59        27000                 0\n",
       "1  2013         9.54        43000                 1\n",
       "2  2017         9.85         6900                 0\n",
       "3  2011         4.15         5200                 0\n",
       "4  2014         6.87        42450                 1"
      ]
     },
     "execution_count": 31,
     "metadata": {},
     "output_type": "execute_result"
    }
   ],
   "source": [
    "new_x.head()"
   ]
  },
  {
   "cell_type": "code",
   "execution_count": 44,
   "metadata": {},
   "outputs": [
    {
     "name": "stdout",
     "output_type": "stream",
     "text": [
      "Treino\n",
      "x_train:  (225, 4)\n",
      "y_train:  (225, 1)\n",
      "\n",
      "Teste\n",
      "x_test:  (76, 4)\n",
      "y_test:  (76, 1)\n"
     ]
    }
   ],
   "source": [
    "x_treino,x_teste,y_treino,y_teste = train_test_split(new_x, new_y,test_size =0.25)\n",
    "# Vendo o número de registros que serão usados para o treino e teste\n",
    "print('Treino')\n",
    "print(\"x_train: \",x_treino.shape)\n",
    "print(\"y_train: \",y_treino.shape)\n",
    "\n",
    "print('\\nTeste')\n",
    "print(\"x_test: \",x_teste.shape)\n",
    "print(\"y_test: \",y_teste.shape)\n"
   ]
  },
  {
   "cell_type": "code",
   "execution_count": 45,
   "metadata": {},
   "outputs": [],
   "source": [
    "model = LinearRegression()\n",
    "model.fit(x_treino,y_treino)\n",
    "y_predict = model.predict(x_teste)"
   ]
  },
  {
   "cell_type": "code",
   "execution_count": 46,
   "metadata": {},
   "outputs": [
    {
     "name": "stdout",
     "output_type": "stream",
     "text": [
      "(76, 1)\n",
      "(76, 1)\n"
     ]
    }
   ],
   "source": [
    "print(y_predict.shape)\n",
    "print(y_teste.shape)"
   ]
  },
  {
   "cell_type": "code",
   "execution_count": 47,
   "metadata": {},
   "outputs": [
    {
     "data": {
      "image/png": "[encoded data removed]",
      "text/plain": [
       "<Figure size 432x288 with 1 Axes>"
      ]
     },
     "metadata": {
      "needs_background": "light"
     },
     "output_type": "display_data"
    }
   ],
   "source": [
    "plt.plot(range(y_predict.shape[0]), y_predict,'r--')\n",
    "plt.plot(range(y_teste.shape[0]), y_teste,'g--')\n",
    "plt.legend(['preço previsto', 'preço real'])\n",
    "plt.ylabel('Preço')\n",
    "plt.xlabel('Índice')\n",
    "\n",
    "plt.show()"
   ]
  },
  {
   "cell_type": "code",
   "execution_count": 48,
   "metadata": {},
   "outputs": [
    {
     "name": "stdout",
     "output_type": "stream",
     "text": [
      "R2-score:  0.891316925555303\n"
     ]
    }
   ],
   "source": [
    "print('R2-score: ', r2_score(y_teste, y_predict))"
   ]
  },
  {
   "cell_type": "markdown",
   "metadata": {},
   "source": [
    " O resultado é melhor ou pior? = O resultado foi melhor, com acurácia de 89% do preço real , isso apenas foi possível alterando a distribuição de dados entres a quantidade que será treinado e testando. Este exercício usei o tamanho do teste 25% do tamanho do dataset original."
   ]
  }
 ],
 "metadata": {
  "kernelspec": {
   "display_name": "Python 3 (ipykernel)",
   "language": "python",
   "name": "python3"
  },
  "language_info": {
   "codemirror_mode": {
    "name": "ipython",
    "version": 3
   },
   "file_extension": ".py",
   "mimetype": "text/x-python",
   "name": "python",
   "nbconvert_exporter": "python",
   "pygments_lexer": "ipython3",
   "version": "3.9.7"
  }
 },
 "nbformat": 4,
 "nbformat_minor": 2
}
